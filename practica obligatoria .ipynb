{
 "cells": [
  {
   "attachments": {
    "27c90660-759c-40c3-8f28-ba927999c553.png": {
     "image/png": "[encoded data removed]"
    }
   },
   "cell_type": "markdown",
   "id": "6f14511f-b65f-4e47-abdd-c2df8f386db4",
   "metadata": {},
   "source": [
    "## Lo mas importante\n",
    "\n",
    "\n",
    "- Matemàticas\n",
    "\n",
    "- Python\n",
    "\n",
    "- SQL\n",
    "\n",
    "![image.png](attachment:27c90660-759c-40c3-8f28-ba927999c553.png)\n",
    "\n",
    "Otro tema importante es el de *Business Intelligence*\n",
    "\n",
    "si tienes dudas, puedes escribirme a: <font color=\"blue\">alberto.romero@thebridgeschool.es</font>\n",
    "\n",
    "y esta pagina se aprende mucho de mechine learning: [página con ML](https://www.kaggle.com/)\n"
   ]
  },
  {
   "cell_type": "markdown",
   "id": "e859d4c7-13fd-409a-9f47-7614132deb51",
   "metadata": {},
   "source": [
    "---"
   ]
  },
  {
   "cell_type": "markdown",
   "id": "3be88bd3-df4f-4f0c-b358-7e685c3ceeec",
   "metadata": {},
   "source": [
    "|Ramp up       |Data Analysis |Machine learning| Data & busines |\n",
    "|--------------|--------------|----------------|--------------- |\n",
    "|Python        |EDA           |Supervised      |Productivización|\n",
    "|Estadística   |       R      |Non supervised  |Storytelling    |\n",
    "| SQL          | Feat. ENG.   | Deep learning  |API             |"
   ]
  },
  {
   "cell_type": "markdown",
   "id": "9c15ed85-d2be-40f5-879e-d2e226ce010d",
   "metadata": {},
   "source": [
    "$\\sqrt{3x-1}+(1+x)^2$"
   ]
  },
  {
   "cell_type": "code",
   "execution_count": null,
   "id": "6025018e-80ea-4dbf-b7ec-f29d674b2939",
   "metadata": {},
   "outputs": [],
   "source": []
  }
 ],
 "metadata": {
  "kernelspec": {
   "display_name": "Python 3 (ipykernel)",
   "language": "python",
   "name": "python3"
  },
  "language_info": {
   "codemirror_mode": {
    "name": "ipython",
    "version": 3
   },
   "file_extension": ".py",
   "mimetype": "text/x-python",
   "name": "python",
   "nbconvert_exporter": "python",
   "pygments_lexer": "ipython3",
   "version": "3.11.9"
  }
 },
 "nbformat": 4,
 "nbformat_minor": 5
}
