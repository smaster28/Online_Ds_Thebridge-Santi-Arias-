{
 "cells": [
  {
   "cell_type": "code",
   "execution_count": 1,
   "id": "16bceb46-cd76-434f-bbcd-cc4073566764",
   "metadata": {},
   "outputs": [
    {
     "name": "stdout",
     "output_type": "stream",
     "text": [
      "hola mundo\n"
     ]
    }
   ],
   "source": [
    "print (\"hola mundo\")"
   ]
  },
  {
   "cell_type": "code",
   "execution_count": null,
   "id": "08fe2e68",
   "metadata": {},
   "outputs": [],
   "source": []
  },
  {
   "cell_type": "markdown",
   "id": "35b91dca-980c-4ac7-a390-bc26f4a1c3df",
   "metadata": {},
   "source": [
    "Hola mundo"
   ]
  },
  {
   "cell_type": "code",
   "execution_count": null,
   "id": "f1b0ebb5-51c8-4ee3-b4f8-c40dd1fd508f",
   "metadata": {},
   "outputs": [],
   "source": []
  }
 ],
 "metadata": {
  "kernelspec": {
   "display_name": "Python 3 (ipykernel)",
   "language": "python",
   "name": "python3"
  },
  "language_info": {
   "codemirror_mode": {
    "name": "ipython",
    "version": 3
   },
   "file_extension": ".py",
   "mimetype": "text/x-python",
   "name": "python",
   "nbconvert_exporter": "python",
   "pygments_lexer": "ipython3",
   "version": "3.11.9"
  }
 },
 "nbformat": 4,
 "nbformat_minor": 5
}
